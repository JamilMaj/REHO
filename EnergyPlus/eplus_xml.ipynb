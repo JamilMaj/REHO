{
 "cells": [
  {
   "cell_type": "code",
   "execution_count": 1,
   "id": "initial_id",
   "metadata": {
    "collapsed": true,
    "ExecuteTime": {
     "end_time": "2024-05-22T14:55:58.490795Z",
     "start_time": "2024-05-22T14:55:58.384519Z"
    }
   },
   "outputs": [],
   "source": [
    "import pandas as pd\n",
    "import numpy as np\n",
    "import matplotlib.pyplot as plt\n",
    "from eppy.modeleditor import IDF\n",
    "import seaborn as sns\n",
    "import html5lib\n",
    "import xml.etree.ElementTree as ET"
   ]
  },
  {
   "cell_type": "code",
   "outputs": [
    {
     "name": "stdout",
     "output_type": "stream",
     "text": [
      "BuildingName {}\n",
      "EnvironmentName {}\n",
      "WeatherFileLocationTitle {}\n",
      "ProgramVersion {}\n",
      "SimulationTimestamp {}\n",
      "AnnualBuildingUtilityPerformanceSummary {}\n",
      "InputVerificationAndResultsSummary {}\n",
      "DemandEndUseComponentsSummary {}\n",
      "ComponentSizingSummary {}\n",
      "AdaptiveComfortSummary {}\n",
      "ClimaticDataSummary {}\n",
      "EnvelopeSummary {}\n",
      "LightingSummary {}\n",
      "EquipmentSummary {}\n",
      "HvacSizingSummary {}\n",
      "SystemSummary {}\n",
      "OutdoorAirSummary {}\n",
      "ObjectCountSummary {}\n",
      "SensibleHeatGainSummary {}\n",
      "Standard621Summary {}\n"
     ]
    }
   ],
   "source": [
    "# import the xml file\n",
    "tree = ET.parse(r'.\\output_data\\idf1_tbl.xml')\n",
    "root = tree.getroot()\n",
    "\n",
    "for child in root:\n",
    "    print(child.tag, child.attrib)"
   ],
   "metadata": {
    "collapsed": false,
    "ExecuteTime": {
     "end_time": "2024-05-22T15:11:46.214061Z",
     "start_time": "2024-05-22T15:11:46.198686Z"
    }
   },
   "id": "dc7a97cdad810701",
   "execution_count": 50
  },
  {
   "cell_type": "code",
   "outputs": [],
   "source": [
    "envelope_summary = root.findall('EnvelopeSummary')"
   ],
   "metadata": {
    "collapsed": false,
    "ExecuteTime": {
     "end_time": "2024-05-22T15:12:33.994153Z",
     "start_time": "2024-05-22T15:12:33.990804Z"
    }
   },
   "id": "a8e6fc7d5956a18b",
   "execution_count": 57
  },
  {
   "cell_type": "code",
   "outputs": [
    {
     "data": {
      "text/plain": "'EnvelopeSummary'"
     },
     "execution_count": 61,
     "metadata": {},
     "output_type": "execute_result"
    }
   ],
   "source": [
    "envelope_summary[0].tag"
   ],
   "metadata": {
    "collapsed": false,
    "ExecuteTime": {
     "end_time": "2024-05-22T15:13:07.393168Z",
     "start_time": "2024-05-22T15:13:07.386723Z"
    }
   },
   "id": "6f96cb8f9c63433c",
   "execution_count": 61
  }
 ],
 "metadata": {
  "kernelspec": {
   "display_name": "Python 3",
   "language": "python",
   "name": "python3"
  },
  "language_info": {
   "codemirror_mode": {
    "name": "ipython",
    "version": 2
   },
   "file_extension": ".py",
   "mimetype": "text/x-python",
   "name": "python",
   "nbconvert_exporter": "python",
   "pygments_lexer": "ipython2",
   "version": "2.7.6"
  }
 },
 "nbformat": 4,
 "nbformat_minor": 5
}
